{
  "nbformat": 4,
  "nbformat_minor": 0,
  "metadata": {
    "colab": {
      "provenance": []
    },
    "kernelspec": {
      "name": "python3",
      "display_name": "Python 3"
    },
    "language_info": {
      "name": "python"
    }
  },
  "cells": [
    {
      "cell_type": "code",
      "execution_count": null,
      "metadata": {
        "colab": {
          "base_uri": "https://localhost:8080/"
        },
        "id": "HOFsP1IpptjV",
        "outputId": "a89792db-a361-4d03-8fb2-956a0e44bafc"
      },
      "outputs": [
        {
          "output_type": "stream",
          "name": "stdout",
          "text": [
            "matrix:\n",
            "[[10  4  5]\n",
            " [ 9  8  9]]\n"
          ]
        }
      ],
      "source": [
        "import numpy as np\n",
        "matrix=np.random.randint(2,12, size=(2,3))\n",
        "print('matrix:')\n",
        "print(matrix)"
      ]
    },
    {
      "cell_type": "code",
      "source": [
        "data_type=matrix.dtype\n",
        "print('Data type of matrix:', data_type)"
      ],
      "metadata": {
        "colab": {
          "base_uri": "https://localhost:8080/"
        },
        "id": "EkOrLjhRrBds",
        "outputId": "d68bebbd-d01d-4d60-8c86-cf53eb15dfd4"
      },
      "execution_count": null,
      "outputs": [
        {
          "output_type": "stream",
          "name": "stdout",
          "text": [
            "Data type of matrix: int64\n"
          ]
        }
      ]
    },
    {
      "cell_type": "code",
      "source": [
        "mean_value = np.mean(matrix)\n",
        "print(mean_value)"
      ],
      "metadata": {
        "colab": {
          "base_uri": "https://localhost:8080/"
        },
        "id": "rsA56vxVrknk",
        "outputId": "9f1627b1-1e09-446b-ded1-3d1186ca633a"
      },
      "execution_count": null,
      "outputs": [
        {
          "output_type": "stream",
          "name": "stdout",
          "text": [
            "7.5\n"
          ]
        }
      ]
    },
    {
      "cell_type": "code",
      "source": [
        "median_value=np.median(matrix)\n",
        "print(median_value)"
      ],
      "metadata": {
        "colab": {
          "base_uri": "https://localhost:8080/"
        },
        "id": "cNZXQG6gsYU2",
        "outputId": "fea6b626-b809-4246-91e0-06c68acd3d9f"
      },
      "execution_count": null,
      "outputs": [
        {
          "output_type": "stream",
          "name": "stdout",
          "text": [
            "8.5\n"
          ]
        }
      ]
    },
    {
      "cell_type": "code",
      "source": [
        "flat_matrix = matrix.flatten()\n",
        "unique,counts=np.unique(flat_matrix,return_counts=True)\n",
        "print(unique, counts)\n",
        "mode_index =np.argmax(counts)\n",
        "mode_value =unique[mode_index]\n",
        "print(mode_value)"
      ],
      "metadata": {
        "colab": {
          "base_uri": "https://localhost:8080/"
        },
        "id": "7IWsHOLBs0Yp",
        "outputId": "85c444f1-903b-4b2e-8456-f3291fde8091"
      },
      "execution_count": null,
      "outputs": [
        {
          "output_type": "stream",
          "name": "stdout",
          "text": [
            "[ 4  5  8  9 10] [1 1 1 2 1]\n",
            "9\n"
          ]
        }
      ]
    },
    {
      "cell_type": "code",
      "source": [
        "print(mean_value)\n",
        "print(median_value)\n",
        "print(mode_value)"
      ],
      "metadata": {
        "colab": {
          "base_uri": "https://localhost:8080/"
        },
        "id": "S2uVoMv4vRpZ",
        "outputId": "7d70e126-7557-4169-a73b-54bf35c36d86"
      },
      "execution_count": null,
      "outputs": [
        {
          "output_type": "stream",
          "name": "stdout",
          "text": [
            "7.5\n",
            "8.5\n",
            "9\n"
          ]
        }
      ]
    },
    {
      "cell_type": "code",
      "source": [
        "addition_result = matrix + matrix\n",
        "print(addition_result)"
      ],
      "metadata": {
        "colab": {
          "base_uri": "https://localhost:8080/"
        },
        "id": "WQnTHkHwwiTZ",
        "outputId": "9eb7afb2-7898-470a-c823-7ac084fddcac"
      },
      "execution_count": null,
      "outputs": [
        {
          "output_type": "stream",
          "name": "stdout",
          "text": [
            "[[20  8 10]\n",
            " [18 16 18]]\n"
          ]
        }
      ]
    },
    {
      "cell_type": "code",
      "source": [
        "subtraction_result = matrix - matrix\n",
        "print(subtraction_result)"
      ],
      "metadata": {
        "colab": {
          "base_uri": "https://localhost:8080/"
        },
        "id": "b9CnrCqdxPBv",
        "outputId": "4dedd5d8-4076-4854-a059-4dbaebddc6f7"
      },
      "execution_count": null,
      "outputs": [
        {
          "output_type": "stream",
          "name": "stdout",
          "text": [
            "[[0 0 0]\n",
            " [0 0 0]]\n"
          ]
        }
      ]
    },
    {
      "cell_type": "code",
      "source": [
        "transpose_result = matrix.T\n",
        "print(transpose_result)"
      ],
      "metadata": {
        "colab": {
          "base_uri": "https://localhost:8080/"
        },
        "id": "HmYgcEmrxbv5",
        "outputId": "b48048bb-40ca-474d-cacc-08cb6f58bbdb"
      },
      "execution_count": null,
      "outputs": [
        {
          "output_type": "stream",
          "name": "stdout",
          "text": [
            "[[10  9]\n",
            " [ 4  8]\n",
            " [ 5  9]]\n"
          ]
        }
      ]
    },
    {
      "cell_type": "code",
      "source": [
        "scalar_multiplication_result = matrix*2\n",
        "print(scalar_multiplication_result)"
      ],
      "metadata": {
        "colab": {
          "base_uri": "https://localhost:8080/"
        },
        "id": "AlZs1vQ6xl_O",
        "outputId": "25d6105d-fc8a-40f4-b698-23192d5c6bb7"
      },
      "execution_count": null,
      "outputs": [
        {
          "output_type": "stream",
          "name": "stdout",
          "text": [
            "[[20  8 10]\n",
            " [18 16 18]]\n"
          ]
        }
      ]
    }
  ]
}